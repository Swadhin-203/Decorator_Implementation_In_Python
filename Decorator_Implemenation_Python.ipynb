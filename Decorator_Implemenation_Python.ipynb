{
 "cells": [
  {
   "cell_type": "code",
   "execution_count": 1,
   "id": "a88046d6",
   "metadata": {},
   "outputs": [],
   "source": [
    "# Normal function without decorator\n",
    "def test():\n",
    "    print(4+5)"
   ]
  },
  {
   "cell_type": "code",
   "execution_count": 2,
   "id": "e72118b9",
   "metadata": {},
   "outputs": [
    {
     "name": "stdout",
     "output_type": "stream",
     "text": [
      "9\n"
     ]
    }
   ],
   "source": [
    "test()"
   ]
  },
  {
   "cell_type": "code",
   "execution_count": 7,
   "id": "8b54443c",
   "metadata": {},
   "outputs": [],
   "source": [
    "# Creating Decorator Function\n",
    "def deco(func):\n",
    "    def inner():\n",
    "        print(\"This is the Start of My Function\")\n",
    "        func()\n",
    "        print(\"This is the End Of My Function\")\n",
    "        \n",
    "    return inner()"
   ]
  },
  {
   "cell_type": "code",
   "execution_count": 8,
   "id": "98e4fdcc",
   "metadata": {},
   "outputs": [
    {
     "name": "stdout",
     "output_type": "stream",
     "text": [
      "This is the Start of My Function\n",
      "203\n",
      "This is the End Of My Function\n"
     ]
    }
   ],
   "source": [
    "# Using Docorator Class\n",
    "@deco\n",
    "def test():\n",
    "    print(189+14)"
   ]
  },
  {
   "cell_type": "code",
   "execution_count": 20,
   "id": "9a630384",
   "metadata": {},
   "outputs": [],
   "source": [
    "# Example-2\n",
    "import time\n",
    "def timer(func):\n",
    "    def timer_test_inner():\n",
    "        print(\"Start Time: \",time.time())\n",
    "        func()\n",
    "        print(\"End Time: \",time.time())\n",
    "    return timer_test_inner()"
   ]
  },
  {
   "cell_type": "code",
   "execution_count": 21,
   "id": "fb028ea0",
   "metadata": {},
   "outputs": [
    {
     "name": "stdout",
     "output_type": "stream",
     "text": [
      "Start Time:  1685006266.0205789\n",
      "8\n",
      "End Time:  1685006266.0205789\n"
     ]
    }
   ],
   "source": [
    "@timer\n",
    "def test2():\n",
    "    print(2+6)"
   ]
  },
  {
   "cell_type": "code",
   "execution_count": 25,
   "id": "ed2e2039",
   "metadata": {},
   "outputs": [
    {
     "name": "stdout",
     "output_type": "stream",
     "text": [
      "Start Time:  1685006366.8715074\n",
      "End Time:  1685006413.895953\n"
     ]
    }
   ],
   "source": [
    "@timer\n",
    "def test3():\n",
    "    for i in range(1,1000000000):\n",
    "        pass"
   ]
  },
  {
   "cell_type": "code",
   "execution_count": 28,
   "id": "b0887c69",
   "metadata": {},
   "outputs": [],
   "source": [
    "# Example-3\n",
    "import time\n",
    "def timer(func):\n",
    "    def timer_test_inner():\n",
    "        start_time=time.time()\n",
    "        print(\"Start Time: \",start_time)\n",
    "        func()\n",
    "        end_time=time.time()\n",
    "        print(\"End Time: \",end_time)\n",
    "        print(\"Total Time taken \",end_time-start_time)\n",
    "    return timer_test_inner()"
   ]
  },
  {
   "cell_type": "code",
   "execution_count": 29,
   "id": "38f73e5e",
   "metadata": {},
   "outputs": [
    {
     "name": "stdout",
     "output_type": "stream",
     "text": [
      "Start Time:  1685006696.814212\n",
      "End Time:  1685006744.6173255\n",
      "Total Time taken  47.80311346054077\n"
     ]
    }
   ],
   "source": [
    "@timer\n",
    "def test3():\n",
    "    for i in range(1,1000000000):\n",
    "        pass"
   ]
  },
  {
   "cell_type": "code",
   "execution_count": null,
   "id": "2bd14b08",
   "metadata": {},
   "outputs": [],
   "source": []
  },
  {
   "cell_type": "code",
   "execution_count": null,
   "id": "46a755f9",
   "metadata": {},
   "outputs": [],
   "source": []
  },
  {
   "cell_type": "code",
   "execution_count": null,
   "id": "b37c61b8",
   "metadata": {},
   "outputs": [],
   "source": []
  },
  {
   "cell_type": "code",
   "execution_count": null,
   "id": "ff5b8add",
   "metadata": {},
   "outputs": [],
   "source": []
  },
  {
   "cell_type": "code",
   "execution_count": null,
   "id": "a6befe07",
   "metadata": {},
   "outputs": [],
   "source": []
  },
  {
   "cell_type": "code",
   "execution_count": null,
   "id": "e80c2378",
   "metadata": {},
   "outputs": [],
   "source": []
  }
 ],
 "metadata": {
  "kernelspec": {
   "display_name": "Python 3 (ipykernel)",
   "language": "python",
   "name": "python3"
  },
  "language_info": {
   "codemirror_mode": {
    "name": "ipython",
    "version": 3
   },
   "file_extension": ".py",
   "mimetype": "text/x-python",
   "name": "python",
   "nbconvert_exporter": "python",
   "pygments_lexer": "ipython3",
   "version": "3.10.9"
  }
 },
 "nbformat": 4,
 "nbformat_minor": 5
}
